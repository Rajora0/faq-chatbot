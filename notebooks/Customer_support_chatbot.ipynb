{
  "cells": [
    {
      "cell_type": "markdown",
      "metadata": {
        "id": "BWFxA_iKjDHO"
      },
      "source": [
        "## 1. Intent Classification Model (You are here!)"
      ]
    },
    {
      "cell_type": "markdown",
      "metadata": {
        "id": "xWKnHRuWhWx_"
      },
      "source": [
        "This Python code builds and trains a machine learning model to classify the intent behind text, such as customer support queries.\n",
        "\n",
        "**Here's a breakdown of what the code does:**\n",
        "\n",
        "1. **Loads and prepares a dataset:** It uses the `datasets` library to load a chatbot training dataset and converts it into a suitable format for processing.\n",
        "2. **Preprocesses the text:** It defines a `TextPreprocessor` class to clean and normalize the input text by performing actions like:\n",
        "    * Removing special characters and extra spaces.\n",
        "    * Converting the text to lowercase.\n",
        "    * Eliminating very short words.\n",
        "3. **Creates a Machine Learning pipeline:** It uses the `ModelBuilder` class to configure a Scikit-learn pipeline consisting of:\n",
        "    * A text preprocessing step.\n",
        "    * Text vectorization using TF-IDF (Term Frequency-Inverse Document Frequency).\n",
        "    * An `ExtraTreesClassifier` to predict the intent.\n",
        "4. **Trains and evaluates the model:** It trains the pipeline using the training data and evaluates its performance on the test data.\n",
        "5. **Defines a prediction function:** It creates the `predict_intent` function to take new text as input, apply the trained pipeline, and return the predicted intent.\n",
        "\n",
        "**Essentially, this code creates a system that learns to categorize text, which can be used to:**\n",
        "\n",
        "* Identify the intent behind customer queries in a chatbot.\n",
        "* Automatically label support tickets based on their content.\n",
        "* Classify text documents into different categories.\n",
        "\n",
        "The code utilizes good programming practices like implementing design patterns (Abstract Factory and Factory Method), making it more organized, reusable, and maintainable."
      ]
    },
    {
      "cell_type": "code",
      "execution_count": 16,
      "metadata": {
        "id": "zQfE8Q3fZuUV"
      },
      "outputs": [],
      "source": [
        "import re\n",
        "import joblib\n",
        "from abc import ABC, abstractmethod\n",
        "\n",
        "import pandas as pd\n",
        "from datasets import load_dataset\n",
        "from sklearn.base import BaseEstimator, TransformerMixin\n",
        "from sklearn.ensemble import ExtraTreesClassifier\n",
        "from sklearn.feature_extraction.text import TfidfVectorizer\n",
        "from sklearn.model_selection import train_test_split\n",
        "from sklearn.pipeline import Pipeline"
      ]
    },
    {
      "cell_type": "markdown",
      "metadata": {
        "id": "Qclvznlhht7l"
      },
      "source": [
        "**1. `TextPreprocessorBase (Abstract Class)`:**\n",
        "\n",
        "* Defines the template for text preprocessing classes.\n",
        "* **`preprocess_text(self, text: str) -> str` (Abstract Method):**\n",
        "    * Defines the method signature that all derived classes must implement.\n",
        "    * Takes a text string as input and returns the preprocessed text.\n",
        "* **`fit(self, X, y=None)`:**\n",
        "    * Default method for compatibility with the sklearn Pipeline, returns the instance itself (`self`).\n",
        "* **`transform(self, X, y=None)`:**\n",
        "    * Applies the `preprocess_text` method to each text in `X` (a list of text strings)."
      ]
    },
    {
      "cell_type": "code",
      "execution_count": 2,
      "metadata": {
        "id": "3LSJVFYugk7d"
      },
      "outputs": [],
      "source": [
        "# Abstract Base Class for Text Preprocessors\n",
        "class TextPreprocessorBase(ABC, BaseEstimator, TransformerMixin):\n",
        "    @abstractmethod\n",
        "    def preprocess_text(self, text: str) -> str:\n",
        "        pass\n",
        "\n",
        "    def fit(self, X, y=None):\n",
        "        return self\n",
        "\n",
        "    def transform(self, X, y=None):\n",
        "        return [self.preprocess_text(text) for text in X]"
      ]
    },
    {
      "cell_type": "markdown",
      "metadata": {
        "id": "HOy8lKOAhwtV"
      },
      "source": [
        "**2. `TextPreprocessor (Concrete Class)`:**\n",
        "\n",
        "* Implements the abstract class `TextPreprocessorBase` to perform text preprocessing.\n",
        "* **`to_lowercase(self, text: str) -> str`:**\n",
        "    * Converts the text to lowercase using the `lower()` method.\n",
        "* **`remove_special_chars(self, text: str) -> str`:**\n",
        "    * Removes special characters from the text using regular expressions (`re.sub`).\n",
        "    * `r'[^\\w\\s]|_|[àèìòùñ°ª]'`: Regex that identifies special characters, including some accents.\n",
        "* **`remove_single_char(self, text: str) -> str`:**\n",
        "    * Removes isolated characters from the text using regular expressions (`re.sub`).\n",
        "    * `r'\\b[A-Za-z]\\b'`: Regex that identifies isolated alphabetical characters.\n",
        "* **`remove_spaces(self, text: str) -> str`:**\n",
        "    * Removes extra whitespaces from the text using regular expressions (`re.sub`).\n",
        "    * `r'(\\s)+'`: Regex that identifies one or more consecutive whitespaces.\n",
        "* **`preprocess_text(self, text: str) -> str`:**\n",
        "    * Implements the abstract method of the base class.\n",
        "    * Applies the preprocessing functions in sequence:\n",
        "        1. `remove_special_chars`\n",
        "        2. `remove_single_char`\n",
        "        3. `to_lowercase`\n",
        "        4. `remove_spaces`"
      ]
    },
    {
      "cell_type": "code",
      "execution_count": 3,
      "metadata": {
        "id": "hV1Z1XSNgn7G"
      },
      "outputs": [],
      "source": [
        "# Concrete Text Preprocessor\n",
        "class TextPreprocessor(TextPreprocessorBase):\n",
        "    def to_lowercase(self, text: str) -> str:\n",
        "        return text.lower()\n",
        "\n",
        "    def remove_special_chars(self, text: str) -> str:\n",
        "        special_chars_pattern = re.compile(r'[^\\w\\s]|_|[àèìòùñ°ª]', flags=re.UNICODE)\n",
        "        return re.sub(special_chars_pattern, \"\", text)\n",
        "\n",
        "    def remove_single_char(self, text: str) -> str:\n",
        "        single_char_pattern = re.compile(r'\\b[A-Za-z]\\b')\n",
        "        return re.sub(single_char_pattern, \"\", text)\n",
        "\n",
        "    def remove_spaces(self, text: str) -> str:\n",
        "        pattern = re.compile(r'(\\s)+')\n",
        "        return pattern.sub(' ', text).strip()\n",
        "\n",
        "    def preprocess_text(self, text: str) -> str:\n",
        "        text = self.remove_special_chars(text)\n",
        "        text = self.remove_single_char(text)\n",
        "        text = self.to_lowercase(text)\n",
        "        text = self.remove_spaces(text)\n",
        "        return text"
      ]
    },
    {
      "cell_type": "markdown",
      "metadata": {
        "id": "HwpM_GG4hzPs"
      },
      "source": [
        "**3. `ModelBuilder (Class)`:**\n",
        "\n",
        "* Responsible for creating and configuring the machine learning pipeline.\n",
        "* **`__init__(self)`:**\n",
        "    * Initializes instances of the pipeline components:\n",
        "        * `text_preprocessor`: Uses the `TextPreprocessor` class to preprocess the text.\n",
        "        * `vectorizer`: Uses `TfidfVectorizer` to transform the text into numerical vectors.\n",
        "            * `ngram_range=(2, 3)`: Considers bigrams and trigrams.\n",
        "            * `max_features=1000`: Limits the vocabulary to 1000 features.\n",
        "            * `min_df=5`: Ignores words that appear in less than 5 documents.\n",
        "        * `classifier`: Uses `ExtraTreesClassifier` for classification.\n",
        "            * `criterion='gini'`: Uses the Gini index to measure the quality of a split.\n",
        "            * `max_depth=100`: Sets the maximum depth of the tree.\n",
        "            * `n_jobs=-1`: Uses all processor cores.\n",
        "* **`create_pipeline(self) -> Pipeline`:**\n",
        "    * Creates and returns the sklearn pipeline with the following steps:\n",
        "        1. `text_preprocessor`: Preprocesses the text.\n",
        "        2. `tfidf`: Vectorizes the text using TF-IDF.\n",
        "        3. `clf`: Classifies the data using the classifier."
      ]
    },
    {
      "cell_type": "code",
      "execution_count": 4,
      "metadata": {
        "id": "jsHmTNvUgqts"
      },
      "outputs": [],
      "source": [
        "# Model Builder (Factory Method Pattern)\n",
        "class ModelBuilder:\n",
        "    def __init__(self):\n",
        "        self.text_preprocessor = TextPreprocessor()\n",
        "        self.vectorizer = TfidfVectorizer(ngram_range=(2, 3),\n",
        "                                         max_features=1000,\n",
        "                                         min_df=5)\n",
        "        self.classifier = ExtraTreesClassifier(criterion='gini',\n",
        "                                               max_depth=100,\n",
        "                                               n_jobs=-1)\n",
        "\n",
        "    def create_pipeline(self) -> Pipeline:\n",
        "        return Pipeline(steps=[\n",
        "            ('text_preprocessor', self.text_preprocessor),\n",
        "            ('tfidf', self.vectorizer),\n",
        "            ('clf', self.classifier)\n",
        "        ])\n"
      ]
    },
    {
      "cell_type": "code",
      "execution_count": 6,
      "metadata": {
        "id": "u5edCHSPgt_N"
      },
      "outputs": [
        {
          "data": {
            "text/html": [
              "<div>\n",
              "<style scoped>\n",
              "    .dataframe tbody tr th:only-of-type {\n",
              "        vertical-align: middle;\n",
              "    }\n",
              "\n",
              "    .dataframe tbody tr th {\n",
              "        vertical-align: top;\n",
              "    }\n",
              "\n",
              "    .dataframe thead th {\n",
              "        text-align: right;\n",
              "    }\n",
              "</style>\n",
              "<table border=\"1\" class=\"dataframe\">\n",
              "  <thead>\n",
              "    <tr style=\"text-align: right;\">\n",
              "      <th></th>\n",
              "      <th>text</th>\n",
              "      <th>category</th>\n",
              "    </tr>\n",
              "  </thead>\n",
              "  <tbody>\n",
              "    <tr>\n",
              "      <th>0</th>\n",
              "      <td>question about cancelling order {{Order Number}}</td>\n",
              "      <td>cancel_order</td>\n",
              "    </tr>\n",
              "    <tr>\n",
              "      <th>1</th>\n",
              "      <td>i have a question about cancelling oorder {{Or...</td>\n",
              "      <td>cancel_order</td>\n",
              "    </tr>\n",
              "    <tr>\n",
              "      <th>2</th>\n",
              "      <td>i need help cancelling puchase {{Order Number}}</td>\n",
              "      <td>cancel_order</td>\n",
              "    </tr>\n",
              "    <tr>\n",
              "      <th>3</th>\n",
              "      <td>I need to cancel purchase {{Order Number}}</td>\n",
              "      <td>cancel_order</td>\n",
              "    </tr>\n",
              "    <tr>\n",
              "      <th>4</th>\n",
              "      <td>I cannot afford this order, cancel purchase {{...</td>\n",
              "      <td>cancel_order</td>\n",
              "    </tr>\n",
              "    <tr>\n",
              "      <th>...</th>\n",
              "      <td>...</td>\n",
              "      <td>...</td>\n",
              "    </tr>\n",
              "    <tr>\n",
              "      <th>26867</th>\n",
              "      <td>I am waiting for a rebate of {{Refund Amount}}...</td>\n",
              "      <td>track_refund</td>\n",
              "    </tr>\n",
              "    <tr>\n",
              "      <th>26868</th>\n",
              "      <td>how to see if there is anything wrong with my ...</td>\n",
              "      <td>track_refund</td>\n",
              "    </tr>\n",
              "    <tr>\n",
              "      <th>26869</th>\n",
              "      <td>I'm waiting for a reimbjrsement of {{Currency ...</td>\n",
              "      <td>track_refund</td>\n",
              "    </tr>\n",
              "    <tr>\n",
              "      <th>26870</th>\n",
              "      <td>I don't know what to do to see my reimbursemen...</td>\n",
              "      <td>track_refund</td>\n",
              "    </tr>\n",
              "    <tr>\n",
              "      <th>26871</th>\n",
              "      <td>I need to know if there is anything new on the...</td>\n",
              "      <td>track_refund</td>\n",
              "    </tr>\n",
              "  </tbody>\n",
              "</table>\n",
              "<p>26872 rows × 2 columns</p>\n",
              "</div>"
            ],
            "text/plain": [
              "                                                    text      category\n",
              "0       question about cancelling order {{Order Number}}  cancel_order\n",
              "1      i have a question about cancelling oorder {{Or...  cancel_order\n",
              "2        i need help cancelling puchase {{Order Number}}  cancel_order\n",
              "3             I need to cancel purchase {{Order Number}}  cancel_order\n",
              "4      I cannot afford this order, cancel purchase {{...  cancel_order\n",
              "...                                                  ...           ...\n",
              "26867  I am waiting for a rebate of {{Refund Amount}}...  track_refund\n",
              "26868  how to see if there is anything wrong with my ...  track_refund\n",
              "26869  I'm waiting for a reimbjrsement of {{Currency ...  track_refund\n",
              "26870  I don't know what to do to see my reimbursemen...  track_refund\n",
              "26871  I need to know if there is anything new on the...  track_refund\n",
              "\n",
              "[26872 rows x 2 columns]"
            ]
          },
          "execution_count": 6,
          "metadata": {},
          "output_type": "execute_result"
        }
      ],
      "source": [
        "# Load and Prepare Dataset\n",
        "dataset = load_dataset(\"bitext/Bitext-customer-support-llm-chatbot-training-dataset\")\n",
        "df = pd.DataFrame(dataset['train'])[[\"instruction\", \"intent\"]]\n",
        "df = df.rename(columns={\"instruction\": \"text\", \"intent\": \"category\"})\n",
        "df"
      ]
    },
    {
      "cell_type": "code",
      "execution_count": 7,
      "metadata": {
        "id": "tuJJ_tXMgwUd"
      },
      "outputs": [],
      "source": [
        "# Train-Test Split\n",
        "X_train, X_test, y_train, y_test = train_test_split(df['text'], df['category'], test_size=0.3, random_state=42)"
      ]
    },
    {
      "cell_type": "code",
      "execution_count": 8,
      "metadata": {
        "colab": {
          "base_uri": "https://localhost:8080/",
          "height": 161
        },
        "id": "C2tYc-orgxrV",
        "outputId": "e354cd81-683b-4659-c5f4-04052ba9f9ec"
      },
      "outputs": [
        {
          "data": {
            "text/html": [
              "<style>#sk-container-id-1 {\n",
              "  /* Definition of color scheme common for light and dark mode */\n",
              "  --sklearn-color-text: black;\n",
              "  --sklearn-color-line: gray;\n",
              "  /* Definition of color scheme for unfitted estimators */\n",
              "  --sklearn-color-unfitted-level-0: #fff5e6;\n",
              "  --sklearn-color-unfitted-level-1: #f6e4d2;\n",
              "  --sklearn-color-unfitted-level-2: #ffe0b3;\n",
              "  --sklearn-color-unfitted-level-3: chocolate;\n",
              "  /* Definition of color scheme for fitted estimators */\n",
              "  --sklearn-color-fitted-level-0: #f0f8ff;\n",
              "  --sklearn-color-fitted-level-1: #d4ebff;\n",
              "  --sklearn-color-fitted-level-2: #b3dbfd;\n",
              "  --sklearn-color-fitted-level-3: cornflowerblue;\n",
              "\n",
              "  /* Specific color for light theme */\n",
              "  --sklearn-color-text-on-default-background: var(--sg-text-color, var(--theme-code-foreground, var(--jp-content-font-color1, black)));\n",
              "  --sklearn-color-background: var(--sg-background-color, var(--theme-background, var(--jp-layout-color0, white)));\n",
              "  --sklearn-color-border-box: var(--sg-text-color, var(--theme-code-foreground, var(--jp-content-font-color1, black)));\n",
              "  --sklearn-color-icon: #696969;\n",
              "\n",
              "  @media (prefers-color-scheme: dark) {\n",
              "    /* Redefinition of color scheme for dark theme */\n",
              "    --sklearn-color-text-on-default-background: var(--sg-text-color, var(--theme-code-foreground, var(--jp-content-font-color1, white)));\n",
              "    --sklearn-color-background: var(--sg-background-color, var(--theme-background, var(--jp-layout-color0, #111)));\n",
              "    --sklearn-color-border-box: var(--sg-text-color, var(--theme-code-foreground, var(--jp-content-font-color1, white)));\n",
              "    --sklearn-color-icon: #878787;\n",
              "  }\n",
              "}\n",
              "\n",
              "#sk-container-id-1 {\n",
              "  color: var(--sklearn-color-text);\n",
              "}\n",
              "\n",
              "#sk-container-id-1 pre {\n",
              "  padding: 0;\n",
              "}\n",
              "\n",
              "#sk-container-id-1 input.sk-hidden--visually {\n",
              "  border: 0;\n",
              "  clip: rect(1px 1px 1px 1px);\n",
              "  clip: rect(1px, 1px, 1px, 1px);\n",
              "  height: 1px;\n",
              "  margin: -1px;\n",
              "  overflow: hidden;\n",
              "  padding: 0;\n",
              "  position: absolute;\n",
              "  width: 1px;\n",
              "}\n",
              "\n",
              "#sk-container-id-1 div.sk-dashed-wrapped {\n",
              "  border: 1px dashed var(--sklearn-color-line);\n",
              "  margin: 0 0.4em 0.5em 0.4em;\n",
              "  box-sizing: border-box;\n",
              "  padding-bottom: 0.4em;\n",
              "  background-color: var(--sklearn-color-background);\n",
              "}\n",
              "\n",
              "#sk-container-id-1 div.sk-container {\n",
              "  /* jupyter's `normalize.less` sets `[hidden] { display: none; }`\n",
              "     but bootstrap.min.css set `[hidden] { display: none !important; }`\n",
              "     so we also need the `!important` here to be able to override the\n",
              "     default hidden behavior on the sphinx rendered scikit-learn.org.\n",
              "     See: https://github.com/scikit-learn/scikit-learn/issues/21755 */\n",
              "  display: inline-block !important;\n",
              "  position: relative;\n",
              "}\n",
              "\n",
              "#sk-container-id-1 div.sk-text-repr-fallback {\n",
              "  display: none;\n",
              "}\n",
              "\n",
              "div.sk-parallel-item,\n",
              "div.sk-serial,\n",
              "div.sk-item {\n",
              "  /* draw centered vertical line to link estimators */\n",
              "  background-image: linear-gradient(var(--sklearn-color-text-on-default-background), var(--sklearn-color-text-on-default-background));\n",
              "  background-size: 2px 100%;\n",
              "  background-repeat: no-repeat;\n",
              "  background-position: center center;\n",
              "}\n",
              "\n",
              "/* Parallel-specific style estimator block */\n",
              "\n",
              "#sk-container-id-1 div.sk-parallel-item::after {\n",
              "  content: \"\";\n",
              "  width: 100%;\n",
              "  border-bottom: 2px solid var(--sklearn-color-text-on-default-background);\n",
              "  flex-grow: 1;\n",
              "}\n",
              "\n",
              "#sk-container-id-1 div.sk-parallel {\n",
              "  display: flex;\n",
              "  align-items: stretch;\n",
              "  justify-content: center;\n",
              "  background-color: var(--sklearn-color-background);\n",
              "  position: relative;\n",
              "}\n",
              "\n",
              "#sk-container-id-1 div.sk-parallel-item {\n",
              "  display: flex;\n",
              "  flex-direction: column;\n",
              "}\n",
              "\n",
              "#sk-container-id-1 div.sk-parallel-item:first-child::after {\n",
              "  align-self: flex-end;\n",
              "  width: 50%;\n",
              "}\n",
              "\n",
              "#sk-container-id-1 div.sk-parallel-item:last-child::after {\n",
              "  align-self: flex-start;\n",
              "  width: 50%;\n",
              "}\n",
              "\n",
              "#sk-container-id-1 div.sk-parallel-item:only-child::after {\n",
              "  width: 0;\n",
              "}\n",
              "\n",
              "/* Serial-specific style estimator block */\n",
              "\n",
              "#sk-container-id-1 div.sk-serial {\n",
              "  display: flex;\n",
              "  flex-direction: column;\n",
              "  align-items: center;\n",
              "  background-color: var(--sklearn-color-background);\n",
              "  padding-right: 1em;\n",
              "  padding-left: 1em;\n",
              "}\n",
              "\n",
              "\n",
              "/* Toggleable style: style used for estimator/Pipeline/ColumnTransformer box that is\n",
              "clickable and can be expanded/collapsed.\n",
              "- Pipeline and ColumnTransformer use this feature and define the default style\n",
              "- Estimators will overwrite some part of the style using the `sk-estimator` class\n",
              "*/\n",
              "\n",
              "/* Pipeline and ColumnTransformer style (default) */\n",
              "\n",
              "#sk-container-id-1 div.sk-toggleable {\n",
              "  /* Default theme specific background. It is overwritten whether we have a\n",
              "  specific estimator or a Pipeline/ColumnTransformer */\n",
              "  background-color: var(--sklearn-color-background);\n",
              "}\n",
              "\n",
              "/* Toggleable label */\n",
              "#sk-container-id-1 label.sk-toggleable__label {\n",
              "  cursor: pointer;\n",
              "  display: block;\n",
              "  width: 100%;\n",
              "  margin-bottom: 0;\n",
              "  padding: 0.5em;\n",
              "  box-sizing: border-box;\n",
              "  text-align: center;\n",
              "}\n",
              "\n",
              "#sk-container-id-1 label.sk-toggleable__label-arrow:before {\n",
              "  /* Arrow on the left of the label */\n",
              "  content: \"▸\";\n",
              "  float: left;\n",
              "  margin-right: 0.25em;\n",
              "  color: var(--sklearn-color-icon);\n",
              "}\n",
              "\n",
              "#sk-container-id-1 label.sk-toggleable__label-arrow:hover:before {\n",
              "  color: var(--sklearn-color-text);\n",
              "}\n",
              "\n",
              "/* Toggleable content - dropdown */\n",
              "\n",
              "#sk-container-id-1 div.sk-toggleable__content {\n",
              "  max-height: 0;\n",
              "  max-width: 0;\n",
              "  overflow: hidden;\n",
              "  text-align: left;\n",
              "  /* unfitted */\n",
              "  background-color: var(--sklearn-color-unfitted-level-0);\n",
              "}\n",
              "\n",
              "#sk-container-id-1 div.sk-toggleable__content.fitted {\n",
              "  /* fitted */\n",
              "  background-color: var(--sklearn-color-fitted-level-0);\n",
              "}\n",
              "\n",
              "#sk-container-id-1 div.sk-toggleable__content pre {\n",
              "  margin: 0.2em;\n",
              "  border-radius: 0.25em;\n",
              "  color: var(--sklearn-color-text);\n",
              "  /* unfitted */\n",
              "  background-color: var(--sklearn-color-unfitted-level-0);\n",
              "}\n",
              "\n",
              "#sk-container-id-1 div.sk-toggleable__content.fitted pre {\n",
              "  /* unfitted */\n",
              "  background-color: var(--sklearn-color-fitted-level-0);\n",
              "}\n",
              "\n",
              "#sk-container-id-1 input.sk-toggleable__control:checked~div.sk-toggleable__content {\n",
              "  /* Expand drop-down */\n",
              "  max-height: 200px;\n",
              "  max-width: 100%;\n",
              "  overflow: auto;\n",
              "}\n",
              "\n",
              "#sk-container-id-1 input.sk-toggleable__control:checked~label.sk-toggleable__label-arrow:before {\n",
              "  content: \"▾\";\n",
              "}\n",
              "\n",
              "/* Pipeline/ColumnTransformer-specific style */\n",
              "\n",
              "#sk-container-id-1 div.sk-label input.sk-toggleable__control:checked~label.sk-toggleable__label {\n",
              "  color: var(--sklearn-color-text);\n",
              "  background-color: var(--sklearn-color-unfitted-level-2);\n",
              "}\n",
              "\n",
              "#sk-container-id-1 div.sk-label.fitted input.sk-toggleable__control:checked~label.sk-toggleable__label {\n",
              "  background-color: var(--sklearn-color-fitted-level-2);\n",
              "}\n",
              "\n",
              "/* Estimator-specific style */\n",
              "\n",
              "/* Colorize estimator box */\n",
              "#sk-container-id-1 div.sk-estimator input.sk-toggleable__control:checked~label.sk-toggleable__label {\n",
              "  /* unfitted */\n",
              "  background-color: var(--sklearn-color-unfitted-level-2);\n",
              "}\n",
              "\n",
              "#sk-container-id-1 div.sk-estimator.fitted input.sk-toggleable__control:checked~label.sk-toggleable__label {\n",
              "  /* fitted */\n",
              "  background-color: var(--sklearn-color-fitted-level-2);\n",
              "}\n",
              "\n",
              "#sk-container-id-1 div.sk-label label.sk-toggleable__label,\n",
              "#sk-container-id-1 div.sk-label label {\n",
              "  /* The background is the default theme color */\n",
              "  color: var(--sklearn-color-text-on-default-background);\n",
              "}\n",
              "\n",
              "/* On hover, darken the color of the background */\n",
              "#sk-container-id-1 div.sk-label:hover label.sk-toggleable__label {\n",
              "  color: var(--sklearn-color-text);\n",
              "  background-color: var(--sklearn-color-unfitted-level-2);\n",
              "}\n",
              "\n",
              "/* Label box, darken color on hover, fitted */\n",
              "#sk-container-id-1 div.sk-label.fitted:hover label.sk-toggleable__label.fitted {\n",
              "  color: var(--sklearn-color-text);\n",
              "  background-color: var(--sklearn-color-fitted-level-2);\n",
              "}\n",
              "\n",
              "/* Estimator label */\n",
              "\n",
              "#sk-container-id-1 div.sk-label label {\n",
              "  font-family: monospace;\n",
              "  font-weight: bold;\n",
              "  display: inline-block;\n",
              "  line-height: 1.2em;\n",
              "}\n",
              "\n",
              "#sk-container-id-1 div.sk-label-container {\n",
              "  text-align: center;\n",
              "}\n",
              "\n",
              "/* Estimator-specific */\n",
              "#sk-container-id-1 div.sk-estimator {\n",
              "  font-family: monospace;\n",
              "  border: 1px dotted var(--sklearn-color-border-box);\n",
              "  border-radius: 0.25em;\n",
              "  box-sizing: border-box;\n",
              "  margin-bottom: 0.5em;\n",
              "  /* unfitted */\n",
              "  background-color: var(--sklearn-color-unfitted-level-0);\n",
              "}\n",
              "\n",
              "#sk-container-id-1 div.sk-estimator.fitted {\n",
              "  /* fitted */\n",
              "  background-color: var(--sklearn-color-fitted-level-0);\n",
              "}\n",
              "\n",
              "/* on hover */\n",
              "#sk-container-id-1 div.sk-estimator:hover {\n",
              "  /* unfitted */\n",
              "  background-color: var(--sklearn-color-unfitted-level-2);\n",
              "}\n",
              "\n",
              "#sk-container-id-1 div.sk-estimator.fitted:hover {\n",
              "  /* fitted */\n",
              "  background-color: var(--sklearn-color-fitted-level-2);\n",
              "}\n",
              "\n",
              "/* Specification for estimator info (e.g. \"i\" and \"?\") */\n",
              "\n",
              "/* Common style for \"i\" and \"?\" */\n",
              "\n",
              ".sk-estimator-doc-link,\n",
              "a:link.sk-estimator-doc-link,\n",
              "a:visited.sk-estimator-doc-link {\n",
              "  float: right;\n",
              "  font-size: smaller;\n",
              "  line-height: 1em;\n",
              "  font-family: monospace;\n",
              "  background-color: var(--sklearn-color-background);\n",
              "  border-radius: 1em;\n",
              "  height: 1em;\n",
              "  width: 1em;\n",
              "  text-decoration: none !important;\n",
              "  margin-left: 1ex;\n",
              "  /* unfitted */\n",
              "  border: var(--sklearn-color-unfitted-level-1) 1pt solid;\n",
              "  color: var(--sklearn-color-unfitted-level-1);\n",
              "}\n",
              "\n",
              ".sk-estimator-doc-link.fitted,\n",
              "a:link.sk-estimator-doc-link.fitted,\n",
              "a:visited.sk-estimator-doc-link.fitted {\n",
              "  /* fitted */\n",
              "  border: var(--sklearn-color-fitted-level-1) 1pt solid;\n",
              "  color: var(--sklearn-color-fitted-level-1);\n",
              "}\n",
              "\n",
              "/* On hover */\n",
              "div.sk-estimator:hover .sk-estimator-doc-link:hover,\n",
              ".sk-estimator-doc-link:hover,\n",
              "div.sk-label-container:hover .sk-estimator-doc-link:hover,\n",
              ".sk-estimator-doc-link:hover {\n",
              "  /* unfitted */\n",
              "  background-color: var(--sklearn-color-unfitted-level-3);\n",
              "  color: var(--sklearn-color-background);\n",
              "  text-decoration: none;\n",
              "}\n",
              "\n",
              "div.sk-estimator.fitted:hover .sk-estimator-doc-link.fitted:hover,\n",
              ".sk-estimator-doc-link.fitted:hover,\n",
              "div.sk-label-container:hover .sk-estimator-doc-link.fitted:hover,\n",
              ".sk-estimator-doc-link.fitted:hover {\n",
              "  /* fitted */\n",
              "  background-color: var(--sklearn-color-fitted-level-3);\n",
              "  color: var(--sklearn-color-background);\n",
              "  text-decoration: none;\n",
              "}\n",
              "\n",
              "/* Span, style for the box shown on hovering the info icon */\n",
              ".sk-estimator-doc-link span {\n",
              "  display: none;\n",
              "  z-index: 9999;\n",
              "  position: relative;\n",
              "  font-weight: normal;\n",
              "  right: .2ex;\n",
              "  padding: .5ex;\n",
              "  margin: .5ex;\n",
              "  width: min-content;\n",
              "  min-width: 20ex;\n",
              "  max-width: 50ex;\n",
              "  color: var(--sklearn-color-text);\n",
              "  box-shadow: 2pt 2pt 4pt #999;\n",
              "  /* unfitted */\n",
              "  background: var(--sklearn-color-unfitted-level-0);\n",
              "  border: .5pt solid var(--sklearn-color-unfitted-level-3);\n",
              "}\n",
              "\n",
              ".sk-estimator-doc-link.fitted span {\n",
              "  /* fitted */\n",
              "  background: var(--sklearn-color-fitted-level-0);\n",
              "  border: var(--sklearn-color-fitted-level-3);\n",
              "}\n",
              "\n",
              ".sk-estimator-doc-link:hover span {\n",
              "  display: block;\n",
              "}\n",
              "\n",
              "/* \"?\"-specific style due to the `<a>` HTML tag */\n",
              "\n",
              "#sk-container-id-1 a.estimator_doc_link {\n",
              "  float: right;\n",
              "  font-size: 1rem;\n",
              "  line-height: 1em;\n",
              "  font-family: monospace;\n",
              "  background-color: var(--sklearn-color-background);\n",
              "  border-radius: 1rem;\n",
              "  height: 1rem;\n",
              "  width: 1rem;\n",
              "  text-decoration: none;\n",
              "  /* unfitted */\n",
              "  color: var(--sklearn-color-unfitted-level-1);\n",
              "  border: var(--sklearn-color-unfitted-level-1) 1pt solid;\n",
              "}\n",
              "\n",
              "#sk-container-id-1 a.estimator_doc_link.fitted {\n",
              "  /* fitted */\n",
              "  border: var(--sklearn-color-fitted-level-1) 1pt solid;\n",
              "  color: var(--sklearn-color-fitted-level-1);\n",
              "}\n",
              "\n",
              "/* On hover */\n",
              "#sk-container-id-1 a.estimator_doc_link:hover {\n",
              "  /* unfitted */\n",
              "  background-color: var(--sklearn-color-unfitted-level-3);\n",
              "  color: var(--sklearn-color-background);\n",
              "  text-decoration: none;\n",
              "}\n",
              "\n",
              "#sk-container-id-1 a.estimator_doc_link.fitted:hover {\n",
              "  /* fitted */\n",
              "  background-color: var(--sklearn-color-fitted-level-3);\n",
              "}\n",
              "</style><div id=\"sk-container-id-1\" class=\"sk-top-container\"><div class=\"sk-text-repr-fallback\"><pre>Pipeline(steps=[(&#x27;text_preprocessor&#x27;, TextPreprocessor()),\n",
              "                (&#x27;tfidf&#x27;,\n",
              "                 TfidfVectorizer(max_features=1000, min_df=5,\n",
              "                                 ngram_range=(2, 3))),\n",
              "                (&#x27;clf&#x27;, ExtraTreesClassifier(max_depth=100, n_jobs=-1))])</pre><b>In a Jupyter environment, please rerun this cell to show the HTML representation or trust the notebook. <br />On GitHub, the HTML representation is unable to render, please try loading this page with nbviewer.org.</b></div><div class=\"sk-container\" hidden><div class=\"sk-item sk-dashed-wrapped\"><div class=\"sk-label-container\"><div class=\"sk-label fitted sk-toggleable\"><input class=\"sk-toggleable__control sk-hidden--visually\" id=\"sk-estimator-id-1\" type=\"checkbox\" ><label for=\"sk-estimator-id-1\" class=\"sk-toggleable__label fitted sk-toggleable__label-arrow fitted\">&nbsp;&nbsp;Pipeline<a class=\"sk-estimator-doc-link fitted\" rel=\"noreferrer\" target=\"_blank\" href=\"https://scikit-learn.org/1.4/modules/generated/sklearn.pipeline.Pipeline.html\">?<span>Documentation for Pipeline</span></a><span class=\"sk-estimator-doc-link fitted\">i<span>Fitted</span></span></label><div class=\"sk-toggleable__content fitted\"><pre>Pipeline(steps=[(&#x27;text_preprocessor&#x27;, TextPreprocessor()),\n",
              "                (&#x27;tfidf&#x27;,\n",
              "                 TfidfVectorizer(max_features=1000, min_df=5,\n",
              "                                 ngram_range=(2, 3))),\n",
              "                (&#x27;clf&#x27;, ExtraTreesClassifier(max_depth=100, n_jobs=-1))])</pre></div> </div></div><div class=\"sk-serial\"><div class=\"sk-item\"><div class=\"sk-estimator fitted sk-toggleable\"><input class=\"sk-toggleable__control sk-hidden--visually\" id=\"sk-estimator-id-2\" type=\"checkbox\" ><label for=\"sk-estimator-id-2\" class=\"sk-toggleable__label fitted sk-toggleable__label-arrow fitted\">TextPreprocessor</label><div class=\"sk-toggleable__content fitted\"><pre>TextPreprocessor()</pre></div> </div></div><div class=\"sk-item\"><div class=\"sk-estimator fitted sk-toggleable\"><input class=\"sk-toggleable__control sk-hidden--visually\" id=\"sk-estimator-id-3\" type=\"checkbox\" ><label for=\"sk-estimator-id-3\" class=\"sk-toggleable__label fitted sk-toggleable__label-arrow fitted\">&nbsp;TfidfVectorizer<a class=\"sk-estimator-doc-link fitted\" rel=\"noreferrer\" target=\"_blank\" href=\"https://scikit-learn.org/1.4/modules/generated/sklearn.feature_extraction.text.TfidfVectorizer.html\">?<span>Documentation for TfidfVectorizer</span></a></label><div class=\"sk-toggleable__content fitted\"><pre>TfidfVectorizer(max_features=1000, min_df=5, ngram_range=(2, 3))</pre></div> </div></div><div class=\"sk-item\"><div class=\"sk-estimator fitted sk-toggleable\"><input class=\"sk-toggleable__control sk-hidden--visually\" id=\"sk-estimator-id-4\" type=\"checkbox\" ><label for=\"sk-estimator-id-4\" class=\"sk-toggleable__label fitted sk-toggleable__label-arrow fitted\">&nbsp;ExtraTreesClassifier<a class=\"sk-estimator-doc-link fitted\" rel=\"noreferrer\" target=\"_blank\" href=\"https://scikit-learn.org/1.4/modules/generated/sklearn.ensemble.ExtraTreesClassifier.html\">?<span>Documentation for ExtraTreesClassifier</span></a></label><div class=\"sk-toggleable__content fitted\"><pre>ExtraTreesClassifier(max_depth=100, n_jobs=-1)</pre></div> </div></div></div></div></div></div>"
            ],
            "text/plain": [
              "Pipeline(steps=[('text_preprocessor', TextPreprocessor()),\n",
              "                ('tfidf',\n",
              "                 TfidfVectorizer(max_features=1000, min_df=5,\n",
              "                                 ngram_range=(2, 3))),\n",
              "                ('clf', ExtraTreesClassifier(max_depth=100, n_jobs=-1))])"
            ]
          },
          "execution_count": 8,
          "metadata": {},
          "output_type": "execute_result"
        }
      ],
      "source": [
        "# Build and Train Model\n",
        "model_builder = ModelBuilder()\n",
        "pipeline = model_builder.create_pipeline()\n",
        "pipeline.fit(df['text'], df['category'])"
      ]
    },
    {
      "cell_type": "code",
      "execution_count": 19,
      "metadata": {},
      "outputs": [
        {
          "data": {
            "text/plain": [
              "['/home/rafael/Downloads/faq-chatbot/app/customer_support_pipeline.pkl']"
            ]
          },
          "execution_count": 19,
          "metadata": {},
          "output_type": "execute_result"
        }
      ],
      "source": [
        "joblib.dump(pipeline, \"/home/rafael/Downloads/faq-chatbot/app/customer_support_pipeline.pkl\")"
      ]
    },
    {
      "cell_type": "code",
      "execution_count": 9,
      "metadata": {
        "colab": {
          "base_uri": "https://localhost:8080/"
        },
        "id": "nKLFbSTWgyvk",
        "outputId": "d1c51ce8-6813-4507-fb74-167f77b8759e"
      },
      "outputs": [
        {
          "name": "stdout",
          "output_type": "stream",
          "text": [
            "Model Accuracy: 0.9119325229471595\n"
          ]
        }
      ],
      "source": [
        "# Evaluate Model\n",
        "score = pipeline.score(X_test, y_test)\n",
        "print(f\"Model Accuracy: {score}\")"
      ]
    },
    {
      "cell_type": "markdown",
      "metadata": {
        "id": "-lkFy_CBh5QM"
      },
      "source": [
        "**4. `predict_intent(text: str) -> str`:**\n",
        "\n",
        "* Utility function to perform intent prediction from a text string.\n",
        "* Takes a text string as input.\n",
        "* Uses the trained pipeline to predict the category (intent) of the text.\n",
        "* Returns the predicted category."
      ]
    },
    {
      "cell_type": "code",
      "execution_count": 10,
      "metadata": {
        "id": "TIz9IlCtg0FH"
      },
      "outputs": [],
      "source": [
        "# Prediction Function\n",
        "def predict_intent(text: str) -> str:\n",
        "    return pipeline.predict([text])[0]"
      ]
    },
    {
      "cell_type": "code",
      "execution_count": 11,
      "metadata": {
        "colab": {
          "base_uri": "https://localhost:8080/"
        },
        "id": "NdaesSIhg1Zk",
        "outputId": "acf8cbb1-bcbd-43ea-ce22-29cec04aecf9"
      },
      "outputs": [
        {
          "name": "stdout",
          "output_type": "stream",
          "text": [
            "Question: question about cancelling order {{Order Number}}\n",
            "Answer: cancel_order\n"
          ]
        }
      ],
      "source": [
        "# Example Usage\n",
        "example_text = df.text.iloc[0]\n",
        "predicted_intent = predict_intent(example_text)\n",
        "\n",
        "print(f\"Question: {example_text}\")\n",
        "print(f\"Answer: {predicted_intent}\")"
      ]
    },
    {
      "cell_type": "markdown",
      "metadata": {
        "id": "x6qdiyeth8Gs"
      },
      "source": [
        "**Other parts of the code:**\n",
        "\n",
        "* Dataset loading and preparation using `datasets` and `pandas`.\n",
        "* Data splitting into training and testing sets using `train_test_split`.\n",
        "* Model training using `pipeline.fit` with the training data.\n",
        "* Model evaluation using `pipeline.score` with the testing data.\n",
        "* Example usage of the `predict_intent` function to predict the intent of a text string."
      ]
    },
    {
      "cell_type": "markdown",
      "metadata": {
        "id": "si4g0AkhiY8r"
      },
      "source": [
        "## 2. Response Design & Organization\n",
        "\n",
        "To organize the chatbot's flow and register responses, you can opt for two main approaches:\n",
        "\n",
        "**1. Direct Mapping (simpler):**\n",
        "\n",
        "* Create a mapping between intents and responses.\n",
        "* For each intent predicted by the model, the chatbot fetches the corresponding response from this mapping.\n",
        "* Example: If the intent is \"greeting\", the mapped response could be \"Hello! How can I assist you?\".\n",
        "\n",
        "**2. Dialogue Flow (advanced):**\n",
        "\n",
        "* Define states and transitions that represent the flow of the conversation.\n",
        "* Each state can have associated responses and conditions for transitioning to other states.\n",
        "* Example: A \"gathering_information\" state could have the response \"What is your name?\" and transition to a \"confirming_data\" state after receiving the information.\n",
        "\n",
        "Choosing the right approach depends on the chatbot's complexity and the need for personalized interactions. Direct mapping is simpler, while dialogue flow offers more flexibility and control over the conversation.\n"
      ]
    },
    {
      "cell_type": "code",
      "execution_count": 12,
      "metadata": {
        "id": "XagBApMrjgxl"
      },
      "outputs": [],
      "source": [
        "intent_responses = {\n",
        "    \"edit_account\": \"To edit your account information, you can go to the 'Account Settings' page.\",\n",
        "    \"switch_account\": \"You can switch between multiple accounts using the account switcher in the top-right corner.\",\n",
        "    \"check_invoice\": \"To check your invoices, visit the 'Billing' section of your account.\",\n",
        "    \"complaint\": \"We appreciate your feedback. Please provide more details about your complaint so we can assist you better.\",\n",
        "    \"contact_customer_service\": \"You can reach our customer service team at [phone number] or [email address].\",\n",
        "    \"delivery_period\": \"Delivery times vary depending on your location and the shipping method chosen during checkout.\",\n",
        "    \"registration_problems\": \"If you're having trouble registering, please ensure you're using a valid email address and have met the password requirements.\",\n",
        "    \"check_payment_methods\": \"We accept the following payment methods: [List payment methods].\",\n",
        "    \"contact_human_agent\": \"I can connect you with a human agent. Please hold while I transfer you.\",\n",
        "    \"payment_issue\": \"We apologize for the payment issue. Please verify your payment information or contact your bank.\",\n",
        "    \"newsletter_subscription\": \"To subscribe to our newsletter, enter your email address in the 'Subscribe' box at the bottom of the page.\",\n",
        "    \"get_invoice\": \"You can download your invoices from the 'Order History' section.\",\n",
        "    \"place_order\": \"To place an order, simply add the desired items to your cart and proceed to checkout.\",\n",
        "    \"cancel_order\": \"You can cancel your order before it ships. Please contact customer support for assistance.\",\n",
        "    \"track_refund\": \"Once your refund is processed, you'll receive a confirmation email with tracking information.\",\n",
        "    \"change_order\": \"Order modifications may be possible depending on the order status. Please contact us.\",\n",
        "    \"get_refund\": \"Refunds are eligible for returns within [number] days of purchase.\",\n",
        "    \"create_account\": \"Creating an account is easy! Just click on 'Sign Up' and follow the instructions.\",\n",
        "    \"check_refund_policy\": \"Our refund policy can be found on our website, under 'Terms and Conditions'.\",\n",
        "    \"review\": \"We appreciate your feedback! Please leave your review on our product page.\",\n",
        "    \"set_up_shipping_address\": \"You can add or edit shipping addresses in the 'Address Book' section of your account.\",\n",
        "    \"delivery_options\": \"We offer various shipping options, including standard and express delivery.\",\n",
        "    \"delete_account\": \"We're sorry to hear you'd like to delete your account. You can do so in the 'Account Settings'.\",\n",
        "    \"recover_password\": \"To reset your password, click on 'Forgot Password' and follow the instructions sent to your email.\",\n",
        "    \"track_order\": \"You can track your order status using the tracking number provided in your confirmation email.\",\n",
        "    \"change_shipping_address\": \"Address changes are possible before shipment. Please contact us immediately.\",\n",
        "    \"check_cancellation_fee\": \"Cancellation fees may apply depending on the order. Please review our cancellation policy.\"\n",
        "}"
      ]
    },
    {
      "cell_type": "markdown",
      "metadata": {
        "id": "i3JV4Kytk72-"
      },
      "source": [
        "**Why a pre-built setup is not ideal:**\n",
        "\n",
        "- **Limitation:**  A system with predefined responses lacks flexibility and cannot handle new inputs or requests not included in the dictionary.\n",
        "- **Lack of Context:** It cannot maintain the context of previous conversations, leading to irrelevant or repetitive responses.\n",
        "- **No Personalization:** Every user gets the same generic responses, limiting the ability to provide a personalized experience."
      ]
    },
    {
      "cell_type": "code",
      "execution_count": 13,
      "metadata": {
        "colab": {
          "base_uri": "https://localhost:8080/"
        },
        "id": "NlOBTnaiksW9",
        "outputId": "1e485d98-1532-450c-cff4-dd01eaba6598"
      },
      "outputs": [
        {
          "name": "stdout",
          "output_type": "stream",
          "text": [
            "You can cancel your order before it ships. Please contact customer support for assistance.\n"
          ]
        }
      ],
      "source": [
        "def chatbot(text):\n",
        "\n",
        "    intent = predict_intent(example_text)\n",
        "\n",
        "    if intent:\n",
        "        return intent_responses[intent]\n",
        "    else:\n",
        "        return \"I'm sorry, I didn't understand your request. Can you please rephrase?\"\n",
        "\n",
        "# Example usage:\n",
        "user_input = \"I want to check my invoice\"\n",
        "response = chatbot(user_input)\n",
        "print(response)  # Output: To check your invoices, visit the 'Billing' section of your account."
      ]
    },
    {
      "cell_type": "markdown",
      "metadata": {
        "id": "80VSs1wUjQ61"
      },
      "source": [
        "## 3.  Dialogue Management (If Using Dialogue Flow)\n"
      ]
    },
    {
      "cell_type": "markdown",
      "metadata": {
        "id": "LOcXXS8Ojcm1"
      },
      "source": [
        "## 4. User Interface (UI) Development\n"
      ]
    },
    {
      "cell_type": "markdown",
      "metadata": {
        "id": "7hF_a8NnjdfV"
      },
      "source": [
        "## 5.  Integration & Testing\n"
      ]
    },
    {
      "cell_type": "markdown",
      "metadata": {
        "id": "9b62zy3-jeU9"
      },
      "source": [
        "## 6. Deployment & Continuous Improvement"
      ]
    }
  ],
  "metadata": {
    "colab": {
      "provenance": [],
      "toc_visible": true
    },
    "kernelspec": {
      "display_name": "Python 3",
      "name": "python3"
    },
    "language_info": {
      "codemirror_mode": {
        "name": "ipython",
        "version": 3
      },
      "file_extension": ".py",
      "mimetype": "text/x-python",
      "name": "python",
      "nbconvert_exporter": "python",
      "pygments_lexer": "ipython3",
      "version": "3.11.5"
    }
  },
  "nbformat": 4,
  "nbformat_minor": 0
}
